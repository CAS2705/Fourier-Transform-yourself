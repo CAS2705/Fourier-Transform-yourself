{
 "cells": [
  {
   "cell_type": "markdown",
   "metadata": {},
   "source": [
    "# Fourier Picture from SVG file"
   ]
  },
  {
   "cell_type": "markdown",
   "metadata": {},
   "source": [
    "Some remarks to start with:\n",
    "You can create an SVG file (https://en.wikipedia.org/wiki/Scalable_Vector_Graphics) with many grafic programs. I used GIMP to draw the outline of my silhouette from a picture in profile. For a simple guide how to draw the path and how to export is as an SVG file in GIMP look for example here: https://www.useragentman.com/blog/2013/04/26/how-to-create-svg-paths-easily-using-the-gimp/\n",
    "\n",
    "The SVG file stores the path in terms of path segments which consist of cubic Bezier curves. If you want to learn a bit about Bezier curves, here is a really nice YouTube video: https://www.youtube.com/watch?v=aVwxzDHniEw\n",
    "\n",
    "With svgpathtools Python offers a really nice and extensive library taking care of almost everything one would like to do with SVG files. I also use matplotlib to generate the final animation. os is a library which helps you interacting with the operating system. I use it to check whether a file exists already and to delete it if necessary."
   ]
  },
  {
   "cell_type": "markdown",
   "metadata": {},
   "source": [
    "So, let's import the necessary libraries"
   ]
  },
  {
   "cell_type": "code",
   "execution_count": null,
   "metadata": {},
   "outputs": [],
   "source": [
    "import numpy as np\n",
    "from svgpathtools import svg2paths, wsvg\n",
    "from svgpathtools.path import CubicBezier\n",
    "import matplotlib.pyplot as pl \n",
    "from matplotlib import animation\n",
    "import os"
   ]
  },
  {
   "cell_type": "markdown",
   "metadata": {},
   "source": [
    "Now load your SVG file and pass it to svg2paths to extract the path segments (the attributes are not strictly necessary)"
   ]
  },
  {
   "cell_type": "code",
   "execution_count": null,
   "metadata": {},
   "outputs": [],
   "source": [
    "pict = \"/Path of your SVG/YourSVG.svg\"\n",
    "\n",
    "paths, attributes = svg2paths(pict)"
   ]
  },
  {
   "cell_type": "markdown",
   "metadata": {},
   "source": [
    "Create a list for the points on the path \"xes\" a linear space to interpolate from 0 to 1 with 20 intermediate points. The rate gives determines the sampling rate. These parameters need a bit of experimenting to adjust them to the picture. "
   ]
  },
  {
   "cell_type": "code",
   "execution_count": 3,
   "metadata": {},
   "outputs": [],
   "source": [
    "xes = []\n",
    "vals = np.linspace(0, 1, 20)\n",
    "rate = 1"
   ]
  },
  {
   "cell_type": "markdown",
   "metadata": {},
   "source": [
    "Now we extract the path segments and use them to build a set of points on the path in the complex plane."
   ]
  },
  {
   "cell_type": "code",
   "execution_count": null,
   "metadata": {},
   "outputs": [],
   "source": [
    "for path in paths[0]:\n",
    "    \n",
    "    # find third order polynomial, s.t. polynomial(0) = start of path segment and polynomial(1) = end of path segment\n",
    "    # luckily .poly() does the trick for cubic Bezier curves :-)\n",
    "    pathpolynomial = path.poly()\n",
    "    \n",
    "    # get 20 points in the complex plane along the path from the polynomial using the values from linspace\n",
    "    points = pathpolynomial(vals)\n",
    "    \n",
    "    # use the clever numpy c_ function to build a list of the compex points representes as 2-element lists \n",
    "    # of real and imaginary part\n",
    "    points = np.c_[points.real, points.imag]\n",
    "    \n",
    "    # approximate the length of each path by summing over the distances between the 20 base points\n",
    "    length = points[1:] - points[:-1]\n",
    "    length = int(np.sqrt((length * length).sum()))\n",
    "    \n",
    "    # build a linspace to reduce the number of basepoints to a managable amount using the \"sampling\" rate\n",
    "    reducedpoints = np.linspace(0, 1, int(length / rate) + 1, endpoint=False)\n",
    "    \n",
    "    # collect the reduced number of basepoints into a list\n",
    "    xes.extend(pathpolynomial(reducedpoints))\n",
    "    \n",
    "print(len(xes),xes[0],xes[len(xes)-1])\n",
    "    "
   ]
  },
  {
   "cell_type": "markdown",
   "metadata": {},
   "source": [
    "And we put the result into an array, shifting and rescaling a bit..."
   ]
  },
  {
   "cell_type": "code",
   "execution_count": 6,
   "metadata": {},
   "outputs": [],
   "source": [
    "# build a plottable array from the points\n",
    "xx = np.asarray(xes)\n",
    "# shift to zero\n",
    "xx -= xx.mean(0)\n",
    "# scale to 1\n",
    "scale = max(np.abs(xx.real).max(), np.abs(xx.imag).max())\n",
    "xx /= scale\n",
    "# image is upside down. So reflect on real axis\n",
    "xx = xx.real - 1j * xx.imag"
   ]
  },
  {
   "cell_type": "markdown",
   "metadata": {},
   "source": [
    "Let's see what we get in real space"
   ]
  },
  {
   "cell_type": "code",
   "execution_count": null,
   "metadata": {},
   "outputs": [],
   "source": [
    "# let's have a look what we have...\n",
    "pl.figure(figsize=(10, 10))\n",
    "pl.scatter(xx.real, xx.imag,s=0.1)\n",
    "pl.plot(xx.real, xx.imag, lw=0.5)\n",
    "pl.axis('scaled')"
   ]
  },
  {
   "cell_type": "markdown",
   "metadata": {},
   "source": [
    "Next, we use fast Fourier transform to get the (discrete) Fourier coefficients of the path approximation"
   ]
  },
  {
   "cell_type": "code",
   "execution_count": 8,
   "metadata": {},
   "outputs": [],
   "source": [
    "# calculate and normalise fourier coefficients\n",
    "Fxx    = np.fft.fft(xx) / xx.size\n",
    "# calculate fourier frequencies\n",
    "frequencies = np.fft.fftfreq(Fxx.size, 1/Fxx.size)\n",
    "# calculate absolute values, i.e. radii of circles\n",
    "radii = np.abs(Fxx)"
   ]
  },
  {
   "cell_type": "code",
   "execution_count": null,
   "metadata": {},
   "outputs": [],
   "source": [
    "# just check the maximal radius\n",
    "radii.max()"
   ]
  },
  {
   "cell_type": "code",
   "execution_count": null,
   "metadata": {},
   "outputs": [],
   "source": [
    "# we probably have too many fourier coefficients\n",
    "len(Fxx)"
   ]
  },
  {
   "cell_type": "markdown",
   "metadata": {},
   "source": [
    "reduce the number of Fourier coefficients either with  \n",
    "N = (rad_norm < 0.91).sum() + 1\n",
    "to a given accuracy of just set it to a number of your choice. Playing around with this number is fun :-)"
   ]
  },
  {
   "cell_type": "code",
   "execution_count": 12,
   "metadata": {},
   "outputs": [],
   "source": [
    "# first, get the list of indices of the entries in radii from biggest to smallest\n",
    "inds = np.argsort(-radii)\n",
    "# define a list with the normalised radii\n",
    "rad_norm = radii / radii.sum()\n",
    "# build a list with partial sums (cumsum) of the first n biggest entries\n",
    "rad_norm = np.cumsum(rad_norm[inds])\n",
    "# find the number N of Fourier coefficients, s.t. the partial sum is below a threshold\n",
    "#N = (rad_norm < 0.91).sum() + 1\n",
    "N = 50 "
   ]
  },
  {
   "cell_type": "code",
   "execution_count": 13,
   "metadata": {},
   "outputs": [],
   "source": [
    "# now find the top N indeces \n",
    "top_inds = (inds[:N])\n",
    "top_inds = top_inds[top_inds != 0]"
   ]
  },
  {
   "cell_type": "code",
   "execution_count": 14,
   "metadata": {},
   "outputs": [],
   "source": [
    "# select the corresponding fourier coefficients, radii and frequencies\n",
    "Fxx_sel = Fxx[top_inds]\n",
    "radii_sel = radii[top_inds]\n",
    "freq_sel = frequencies[top_inds]"
   ]
  },
  {
   "cell_type": "code",
   "execution_count": 16,
   "metadata": {},
   "outputs": [],
   "source": [
    "# fix the center of the first fourier epicycle\n",
    "#base = Fxx_sel[0]\n",
    "# time points\n",
    "#time = list(enumerate(np.linspace(0, 2 * np.pi, 100)))\n",
    "# linspace for points on the fourier circles\n",
    "theta = np.linspace(-np.pi, np.pi, N)\n",
    "points = []"
   ]
  },
  {
   "cell_type": "markdown",
   "metadata": {},
   "source": [
    "Build a function plotting at given time t one epicycle image. Iterating over all time points produces pictures for the animation (and the gif)."
   ]
  },
  {
   "cell_type": "code",
   "execution_count": null,
   "metadata": {},
   "outputs": [],
   "source": [
    "def plotfig(t):\n",
    "    base = Fxx_sel[0]\n",
    "    pl.clf()\n",
    "    #pl.plot(xx.real, xx.imag, lw=0.5)\n",
    "    for count, (Fxx_i, rad_i, freq_i) in enumerate(zip(Fxx_sel, radii_sel, freq_sel)):\n",
    "        # find point on epicycle at time t\n",
    "        r_i = Fxx_i * np.exp(1j * freq_i * t) \n",
    "        # draw center of epicycle\n",
    "        pl.scatter([base.real], [base.imag], c= 'blue', s=0.1,lw=0.1)\n",
    "        # build list with points on circle of epicycle \n",
    "        xy = np.c_[np.cos(theta) * rad_i + base.real, np.sin(theta) * rad_i + base.imag]\n",
    "        # plot circle\n",
    "        pl.plot(xy[:, 0], xy[:, 1], c= 'blue', lw=0.1)\n",
    "        # plot line from center of circle to r_i\n",
    "        pl.plot([base.real, base.real + r_i.real], [base.imag, base.imag + r_i.imag], c='blue', lw=0.1)\n",
    "        # shift to center of next epicycle\n",
    "        base += r_i\n",
    "        pl.xticks([])\n",
    "        pl.yticks([])\n",
    "        pl.xlim((-2, 2))\n",
    "        pl.ylim((-2, 2))\n",
    "        pl.axis('off')\n",
    "\n",
    "    points.append(base)\n",
    "    pl.scatter([base.real], [base.imag], c='red')\n",
    "    pp = np.asarray(points)\n",
    "    pl.plot(pp.real, pp.imag, lw=0.5)\n",
    "    "
   ]
  },
  {
   "cell_type": "markdown",
   "metadata": {},
   "source": [
    "And we finally build the gif. Be careful with the number of frames n_frames as this can take a while..."
   ]
  },
  {
   "cell_type": "code",
   "execution_count": null,
   "metadata": {},
   "outputs": [],
   "source": [
    "gifname = '/Path for your final gif/nameGif.gif'\n",
    "\n",
    "n_frames = 200 \n",
    "\n",
    "fig, ax = pl.subplots(1, 1, figsize=(5, 5))\n",
    "\n",
    "anim = animation.FuncAnimation(\n",
    "        fig=fig,    \n",
    "        func=plotfig, \n",
    "        frames=np.linspace(0, 4 * np.pi, n_frames), \n",
    "        interval=20,\n",
    "    )\n",
    "\n",
    "if os.path.isfile(gifname):\n",
    "   os.remove(gifname)\n",
    "\n",
    "anim.save(gifname, writer='imagemagick',fps = 20)\n",
    "\n",
    "pl.show()\n",
    "pl.clf()\n",
    "pl.close()"
   ]
  },
  {
   "cell_type": "markdown",
   "metadata": {},
   "source": [
    "And that's basically it. The gif-Logo of myself has been created exactly like this!"
   ]
  }
 ],
 "metadata": {
  "kernelspec": {
   "display_name": "Python 3",
   "language": "python",
   "name": "python3"
  },
  "language_info": {
   "codemirror_mode": {
    "name": "ipython",
    "version": 3
   },
   "file_extension": ".py",
   "mimetype": "text/x-python",
   "name": "python",
   "nbconvert_exporter": "python",
   "pygments_lexer": "ipython3",
   "version": "3.7.6"
  }
 },
 "nbformat": 4,
 "nbformat_minor": 4
}
